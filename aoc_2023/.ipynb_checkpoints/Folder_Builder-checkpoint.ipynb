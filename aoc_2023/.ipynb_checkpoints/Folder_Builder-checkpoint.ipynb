{
 "cells": [
  {
   "cell_type": "code",
   "execution_count": 11,
   "id": "29de1a3e",
   "metadata": {},
   "outputs": [
    {
     "ename": "SyntaxError",
     "evalue": "incomplete input (774419688.py, line 9)",
     "output_type": "error",
     "traceback": [
      "\u001b[0;36m  Cell \u001b[0;32mIn [11], line 9\u001b[0;36m\u001b[0m\n\u001b[0;31m    lines = f.read().strip().split('\\n')'''\u001b[0m\n\u001b[0m                                        ^\u001b[0m\n\u001b[0;31mSyntaxError\u001b[0m\u001b[0;31m:\u001b[0m incomplete input\n"
     ]
    }
   ],
   "source": [
    "def create_day(num):\n",
    "    ! mkdir -p day_{num}\n",
    "    ! touch day_{num}/aoc{num}.py\n",
    "    ! touch day_{num}/test_1.txt\n",
    "    ! touch day_{num}/test_2.txt\n",
    "    ! touch day_{num}/input.txt\n",
    "    ! echo f'''from icecream import ic\n",
    "    \n",
    "    def day_{num}_1(textfile):\n",
    "        with open(textfile) as f:\n",
    "            lines = f.read().strip().split('\\n')\n",
    "            \n",
    "    ic(day_7_1('day_{num}/test_1.txt'))\n",
    "    \n",
    "    def day_{num}_2(textfile):\n",
    "        with open(textfile) as f:\n",
    "            lines = f.read().strip().split('\\n')\n",
    "            \n",
    "    ic(day_7_2('day_{num}/test_2.txt'))'''\n",
    "    "
   ]
  },
  {
   "cell_type": "code",
   "execution_count": 10,
   "id": "a2e00f7d",
   "metadata": {},
   "outputs": [],
   "source": [
    "create_day(7)"
   ]
  },
  {
   "cell_type": "code",
   "execution_count": null,
   "id": "df736dbd",
   "metadata": {},
   "outputs": [],
   "source": []
  }
 ],
 "metadata": {
  "kernelspec": {
   "display_name": "Python 3 (ipykernel)",
   "language": "python",
   "name": "python3"
  },
  "language_info": {
   "codemirror_mode": {
    "name": "ipython",
    "version": 3
   },
   "file_extension": ".py",
   "mimetype": "text/x-python",
   "name": "python",
   "nbconvert_exporter": "python",
   "pygments_lexer": "ipython3",
   "version": "3.10.6"
  },
  "toc": {
   "base_numbering": 1,
   "nav_menu": {},
   "number_sections": true,
   "sideBar": true,
   "skip_h1_title": false,
   "title_cell": "Table of Contents",
   "title_sidebar": "Contents",
   "toc_cell": false,
   "toc_position": {},
   "toc_section_display": true,
   "toc_window_display": false
  }
 },
 "nbformat": 4,
 "nbformat_minor": 5
}
