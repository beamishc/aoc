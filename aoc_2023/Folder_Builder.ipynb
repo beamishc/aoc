{
 "cells": [
  {
   "cell_type": "code",
   "execution_count": 7,
   "id": "2fde29b4",
   "metadata": {},
   "outputs": [],
   "source": [
    "def create_day(num):\n",
    "    ! mkdir -p day_{num}\n",
    "    ! touch day_{num}/aoc{num}.py\n",
    "    ! touch day_{num}/test_1.txt\n",
    "    ! touch day_{num}/test_2.txt\n",
    "    ! touch day_{num}/input.txt\n",
    "    "
   ]
  },
  {
   "cell_type": "code",
   "execution_count": 9,
   "id": "502169e8",
   "metadata": {},
   "outputs": [],
   "source": [
    "create_day(6)"
   ]
  },
  {
   "cell_type": "code",
   "execution_count": null,
   "id": "639f44c3",
   "metadata": {},
   "outputs": [],
   "source": []
  }
 ],
 "metadata": {
  "kernelspec": {
   "display_name": "Python 3 (ipykernel)",
   "language": "python",
   "name": "python3"
  },
  "language_info": {
   "codemirror_mode": {
    "name": "ipython",
    "version": 3
   },
   "file_extension": ".py",
   "mimetype": "text/x-python",
   "name": "python",
   "nbconvert_exporter": "python",
   "pygments_lexer": "ipython3",
   "version": "3.10.6"
  },
  "toc": {
   "base_numbering": 1,
   "nav_menu": {},
   "number_sections": true,
   "sideBar": true,
   "skip_h1_title": false,
   "title_cell": "Table of Contents",
   "title_sidebar": "Contents",
   "toc_cell": false,
   "toc_position": {},
   "toc_section_display": true,
   "toc_window_display": false
  }
 },
 "nbformat": 4,
 "nbformat_minor": 5
}
