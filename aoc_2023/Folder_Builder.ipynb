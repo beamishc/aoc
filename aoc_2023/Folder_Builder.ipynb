{
 "cells": [
  {
   "cell_type": "code",
   "execution_count": 4,
   "id": "445c4c8d",
   "metadata": {},
   "outputs": [],
   "source": [
    "def create_day(num):\n",
    "    ! mkdir -p day_{num}\n",
    "    ! touch day_{num}/aoc{num}.py\n",
    "    ! touch day_{num}/test_1.txt\n",
    "    ! touch day_{num}/test_2.txt\n",
    "    ! touch day_{num}/input.txt\n",
    "    ! echo \"\"\"from icecream import ic\\n\\ndef day_{num}_1(textfile):\\n    with open(textfile) as f:\\n        lines = f.read().strip().split('/\\/n')\\n\\nic(day_{num}_1('day_{num}/test_1.txt'))\\n\\ndef day_{num}_2(textfile):\\n    with open(textfile) as f:\\n        lines = f.read().strip().split('/\\/n')\\n\\nic(day_{num}_2('day_{num}/test_2.txt'))\"\"\" >> day_{num}/aoc{num}.py"
   ]
  },
  {
   "cell_type": "code",
   "execution_count": 5,
   "id": "fa7c77b9",
   "metadata": {},
   "outputs": [],
   "source": [
    "create_day(11)"
   ]
  },
  {
   "cell_type": "code",
   "execution_count": null,
   "id": "af6974eb",
   "metadata": {},
   "outputs": [],
   "source": []
  }
 ],
 "metadata": {
  "kernelspec": {
   "display_name": "Python 3 (ipykernel)",
   "language": "python",
   "name": "python3"
  },
  "language_info": {
   "codemirror_mode": {
    "name": "ipython",
    "version": 3
   },
   "file_extension": ".py",
   "mimetype": "text/x-python",
   "name": "python",
   "nbconvert_exporter": "python",
   "pygments_lexer": "ipython3",
   "version": "3.10.6"
  },
  "toc": {
   "base_numbering": 1,
   "nav_menu": {},
   "number_sections": true,
   "sideBar": true,
   "skip_h1_title": false,
   "title_cell": "Table of Contents",
   "title_sidebar": "Contents",
   "toc_cell": false,
   "toc_position": {},
   "toc_section_display": true,
   "toc_window_display": false
  }
 },
 "nbformat": 4,
 "nbformat_minor": 5
}
